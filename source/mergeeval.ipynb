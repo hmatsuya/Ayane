{
 "metadata": {
  "language_info": {
   "codemirror_mode": {
    "name": "ipython",
    "version": 3
   },
   "file_extension": ".py",
   "mimetype": "text/x-python",
   "name": "python",
   "nbconvert_exporter": "python",
   "pygments_lexer": "ipython3",
   "version": "3.7.3-final"
  },
  "orig_nbformat": 2,
  "kernelspec": {
   "name": "python_defaultSpec_1599555187974",
   "display_name": "Python 3.7.3 64-bit ('py3': conda)"
  }
 },
 "nbformat": 4,
 "nbformat_minor": 2,
 "cells": [
  {
   "cell_type": "code",
   "execution_count": 4,
   "metadata": {},
   "outputs": [],
   "source": [
    "import optuna\n",
    "from optuna.distributions import IntUniformDistribution\n"
   ]
  },
  {
   "cell_type": "code",
   "execution_count": 5,
   "metadata": {
    "tags": []
   },
   "outputs": [
    {
     "output_type": "stream",
     "name": "stderr",
     "text": "\u001b[32m[I 2020-09-08 19:29:39,677]\u001b[0m A new study created in memory with name: no-name-ad36e68b-1cc4-49aa-a170-e38691455cd9\u001b[0m\n"
    },
    {
     "output_type": "execute_result",
     "data": {
      "text/plain": "<optuna.study.Study at 0x7ff5483c4eb8>"
     },
     "metadata": {},
     "execution_count": 5
    }
   ],
   "source": [
    "study = optuna.create_study()\n",
    "study"
   ]
  },
  {
   "cell_type": "code",
   "execution_count": 7,
   "metadata": {},
   "outputs": [],
   "source": [
    "tdata = [\n",
    "    {\n",
    "        \"params\": {\n",
    "            \"percentage1\": 33,\n",
    "            \"percentage2\": 93,\n",
    "            \"percentage3\": 59,\n",
    "        },\n",
    "        \"distributions\": {\n",
    "            \"percentage1\": IntUniformDistribution,\n",
    "            \"percentage2\": IntUniformDistribution,\n",
    "            \"percentage3\": IntUniformDistribution,\n",
    "        },\n",
    "        \"value\": -36.78\n",
    "    },\n",
    "\n",
    "        {\n",
    "        \"params\": {\n",
    "            \"percentage1\": 21,\n",
    "            \"percentage2\": 7,\n",
    "            \"percentage3\": 5,\n",
    "        },\n",
    "        \"distributions\": {\n",
    "            \"percentage1\": IntUniformDistribution,\n",
    "            \"percentage2\": IntUniformDistribution,\n",
    "            \"percentage3\": IntUniformDistribution,\n",
    "        },\n",
    "        \"value\": -20.67\n",
    "    },\n",
    "\n",
    "    {\n",
    "        \"params\": {\n",
    "            \"percentage1\": 91,\n",
    "            \"percentage2\": 20,\n",
    "            \"percentage3\": 14,\n",
    "        },\n",
    "        \"distributions\": {\n",
    "            \"percentage1\": IntUniformDistribution,\n",
    "            \"percentage2\": IntUniformDistribution,\n",
    "            \"percentage3\": IntUniformDistribution,\n",
    "        },\n",
    "        \"value\": -34.03\n",
    "    },\n",
    "\n",
    "    {\n",
    "        \"params\": {\n",
    "            \"percentage1\": 26,\n",
    "            \"percentage2\": 84,\n",
    "            \"percentage3\": 65,\n",
    "        },\n",
    "        \"distributions\": {\n",
    "            \"percentage1\": IntUniformDistribution,\n",
    "            \"percentage2\": IntUniformDistribution,\n",
    "            \"percentage3\": IntUniformDistribution,\n",
    "        },\n",
    "        \"value\": -60.23\n",
    "    },\n",
    "\n",
    "    {\n",
    "        \"params\": {\n",
    "            \"percentage1\": 74,\n",
    "            \"percentage2\": 94,\n",
    "            \"percentage3\": 64,\n",
    "        },\n",
    "        \"distributions\": {\n",
    "            \"percentage1\": IntUniformDistribution,\n",
    "            \"percentage2\": IntUniformDistribution,\n",
    "            \"percentage3\": IntUniformDistribution,\n",
    "        },\n",
    "        \"value\": -37.16\n",
    "    },\n",
    "\n",
    "    {\n",
    "        \"params\": {\n",
    "            \"percentage1\": 49,\n",
    "            \"percentage2\": 29,\n",
    "            \"percentage3\": 84,\n",
    "        },\n",
    "        \"distributions\": {\n",
    "            \"percentage1\": IntUniformDistribution,\n",
    "            \"percentage2\": IntUniformDistribution,\n",
    "            \"percentage3\": IntUniformDistribution,\n",
    "        },\n",
    "        \"value\": -20.07\n",
    "    },\n",
    "]"
   ]
  },
  {
   "cell_type": "code",
   "execution_count": 9,
   "metadata": {
    "tags": []
   },
   "outputs": [
    {
     "output_type": "stream",
     "name": "stderr",
     "text": "\u001b[32m[I 2020-09-08 19:49:26,237]\u001b[0m A new study created in memory with name: no-name-fe963ee9-b273-4d30-a526-87be7ddd5789\u001b[0m\n{'params': {'percentage1': 33, 'percentage2': 93, 'percentage3': 59}, 'distributions': {'percentage1': <class 'optuna.distributions.IntUniformDistribution'>, 'percentage2': <class 'optuna.distributions.IntUniformDistribution'>, 'percentage3': <class 'optuna.distributions.IntUniformDistribution'>}, 'value': -36.78}\n"
    },
    {
     "output_type": "error",
     "ename": "TypeError",
     "evalue": "to_internal_repr() missing 1 required positional argument: 'param_value_in_external_repr'",
     "traceback": [
      "\u001b[0;31m---------------------------------------------------------------------------\u001b[0m",
      "\u001b[0;31mTypeError\u001b[0m                                 Traceback (most recent call last)",
      "\u001b[0;32m<ipython-input-9-3b976df3b9f8>\u001b[0m in \u001b[0;36m<module>\u001b[0;34m\u001b[0m\n\u001b[1;32m      6\u001b[0m         \u001b[0mparams\u001b[0m \u001b[0;34m=\u001b[0m \u001b[0mtd\u001b[0m\u001b[0;34m[\u001b[0m\u001b[0;34m\"params\"\u001b[0m\u001b[0;34m]\u001b[0m\u001b[0;34m,\u001b[0m\u001b[0;34m\u001b[0m\u001b[0;34m\u001b[0m\u001b[0m\n\u001b[1;32m      7\u001b[0m         \u001b[0mdistributions\u001b[0m\u001b[0;34m=\u001b[0m\u001b[0mtd\u001b[0m\u001b[0;34m[\u001b[0m\u001b[0;34m\"distributions\"\u001b[0m\u001b[0;34m]\u001b[0m\u001b[0;34m,\u001b[0m\u001b[0;34m\u001b[0m\u001b[0;34m\u001b[0m\u001b[0m\n\u001b[0;32m----> 8\u001b[0;31m         \u001b[0mvalue\u001b[0m\u001b[0;34m=\u001b[0m\u001b[0mtd\u001b[0m\u001b[0;34m[\u001b[0m\u001b[0;34m\"value\"\u001b[0m\u001b[0;34m]\u001b[0m\u001b[0;34m\u001b[0m\u001b[0;34m\u001b[0m\u001b[0m\n\u001b[0m\u001b[1;32m      9\u001b[0m     )\n\u001b[1;32m     10\u001b[0m     \u001b[0mstudy\u001b[0m\u001b[0;34m.\u001b[0m\u001b[0madd_trial\u001b[0m\u001b[0;34m(\u001b[0m\u001b[0mt\u001b[0m\u001b[0;34m)\u001b[0m\u001b[0;34m\u001b[0m\u001b[0;34m\u001b[0m\u001b[0m\n",
      "\u001b[0;32m~/anaconda/envs/py3/lib/python3.7/site-packages/optuna/_experimental.py\u001b[0m in \u001b[0;36mnew_func\u001b[0;34m(*args, **kwargs)\u001b[0m\n\u001b[1;32m     66\u001b[0m                 )\n\u001b[1;32m     67\u001b[0m \u001b[0;34m\u001b[0m\u001b[0m\n\u001b[0;32m---> 68\u001b[0;31m                 \u001b[0;32mreturn\u001b[0m \u001b[0mfunc\u001b[0m\u001b[0;34m(\u001b[0m\u001b[0;34m*\u001b[0m\u001b[0margs\u001b[0m\u001b[0;34m,\u001b[0m \u001b[0;34m**\u001b[0m\u001b[0mkwargs\u001b[0m\u001b[0;34m)\u001b[0m  \u001b[0;31m# type: ignore\u001b[0m\u001b[0;34m\u001b[0m\u001b[0;34m\u001b[0m\u001b[0m\n\u001b[0m\u001b[1;32m     69\u001b[0m \u001b[0;34m\u001b[0m\u001b[0m\n\u001b[1;32m     70\u001b[0m             \u001b[0;32mreturn\u001b[0m \u001b[0mnew_func\u001b[0m\u001b[0;34m\u001b[0m\u001b[0;34m\u001b[0m\u001b[0m\n",
      "\u001b[0;32m~/anaconda/envs/py3/lib/python3.7/site-packages/optuna/trial/_frozen.py\u001b[0m in \u001b[0;36mcreate_trial\u001b[0;34m(state, value, params, distributions, user_attrs, system_attrs, intermediate_values)\u001b[0m\n\u001b[1;32m    531\u001b[0m     )\n\u001b[1;32m    532\u001b[0m \u001b[0;34m\u001b[0m\u001b[0m\n\u001b[0;32m--> 533\u001b[0;31m     \u001b[0mtrial\u001b[0m\u001b[0;34m.\u001b[0m\u001b[0m_validate\u001b[0m\u001b[0;34m(\u001b[0m\u001b[0;34m)\u001b[0m\u001b[0;34m\u001b[0m\u001b[0;34m\u001b[0m\u001b[0m\n\u001b[0m\u001b[1;32m    534\u001b[0m \u001b[0;34m\u001b[0m\u001b[0m\n\u001b[1;32m    535\u001b[0m     \u001b[0;32mreturn\u001b[0m \u001b[0mtrial\u001b[0m\u001b[0;34m\u001b[0m\u001b[0;34m\u001b[0m\u001b[0m\n",
      "\u001b[0;32m~/anaconda/envs/py3/lib/python3.7/site-packages/optuna/trial/_frozen.py\u001b[0m in \u001b[0;36m_validate\u001b[0;34m(self)\u001b[0m\n\u001b[1;32m    321\u001b[0m             \u001b[0mdistribution\u001b[0m \u001b[0;34m=\u001b[0m \u001b[0mself\u001b[0m\u001b[0;34m.\u001b[0m\u001b[0mdistributions\u001b[0m\u001b[0;34m[\u001b[0m\u001b[0mparam_name\u001b[0m\u001b[0;34m]\u001b[0m\u001b[0;34m\u001b[0m\u001b[0;34m\u001b[0m\u001b[0m\n\u001b[1;32m    322\u001b[0m \u001b[0;34m\u001b[0m\u001b[0m\n\u001b[0;32m--> 323\u001b[0;31m             \u001b[0mparam_value_in_internal_repr\u001b[0m \u001b[0;34m=\u001b[0m \u001b[0mdistribution\u001b[0m\u001b[0;34m.\u001b[0m\u001b[0mto_internal_repr\u001b[0m\u001b[0;34m(\u001b[0m\u001b[0mparam_value\u001b[0m\u001b[0;34m)\u001b[0m\u001b[0;34m\u001b[0m\u001b[0;34m\u001b[0m\u001b[0m\n\u001b[0m\u001b[1;32m    324\u001b[0m             \u001b[0;32mif\u001b[0m \u001b[0;32mnot\u001b[0m \u001b[0mdistribution\u001b[0m\u001b[0;34m.\u001b[0m\u001b[0m_contains\u001b[0m\u001b[0;34m(\u001b[0m\u001b[0mparam_value_in_internal_repr\u001b[0m\u001b[0;34m)\u001b[0m\u001b[0;34m:\u001b[0m\u001b[0;34m\u001b[0m\u001b[0;34m\u001b[0m\u001b[0m\n\u001b[1;32m    325\u001b[0m                 raise ValueError(\n",
      "\u001b[0;31mTypeError\u001b[0m: to_internal_repr() missing 1 required positional argument: 'param_value_in_external_repr'"
     ]
    }
   ],
   "source": [
    "study = optuna.create_study()\n",
    "\n",
    "for td in tdata:\n",
    "    print(td)\n",
    "    t = optuna.trial.create_trial(\n",
    "        params = td[\"params\"],\n",
    "        distributions=td[\"distributions\"],\n",
    "        value=td[\"value\"]\n",
    "    )\n",
    "    study.add_trial(t)\n",
    "\n",
    "study"
   ]
  },
  {
   "cell_type": "code",
   "execution_count": null,
   "metadata": {},
   "outputs": [],
   "source": []
  }
 ]
}